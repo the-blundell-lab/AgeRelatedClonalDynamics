{
 "cells": [
  {
   "metadata": {},
   "cell_type": "markdown",
   "source": [
    "# Functions for the evolutionary models\n",
    "\n",
    "This file contains all functions necessary for fitting and plotting the evolutionary models. "
   ],
   "id": "e06832dce493f777"
  },
  {
   "metadata": {},
   "cell_type": "code",
   "outputs": [],
   "execution_count": null,
   "source": [
    "%matplotlib inline\n",
    "import numpy as np\n",
    "import matplotlib.pyplot as plt\n",
    "import scipy.special\n",
    "import scipy.integrate as it\n",
    "from scipy.stats import kde\n",
    "import pandas as pd\n",
    "from scipy.special import gamma\n",
    "from IPython.display import clear_output\n",
    "import scipy.optimize as opt\n",
    "from scipy.stats import norm\n",
    "import os\n",
    "import datetime\n",
    "\n",
    "\n",
    "import matplotlib\n",
    "matplotlib.rc_file_defaults()\n",
    "matplotlib.rcParams['pdf.fonttype'] = 42\n",
    "matplotlib.rcParams['font.family'] = 'Lato'"
   ],
   "id": "6e81a7d385ff93e6"
  },
  {
   "metadata": {},
   "cell_type": "markdown",
   "source": [
    "Density of clone sizes and frequencies (equations 1 and 2, supplementary material)\n",
    "\n",
    "$$ \\rho(n, t, \\{a_i\\}) dn = n^{\\theta - 1} \\frac{e^{-n/\\tilde{n}(t)}}{\\Gamma(\\theta)\\tilde{n}(t)^{\\theta}} dn  \\qquad \\qquad (1)$$\n",
    "\n",
    "$$\\textrm{where}  \\quad \\theta = N\\tau\\mu \\quad \\textrm{and} \\quad \\tilde{n}(t) = \\frac{\\exp(st) - 1}{s\\tau}$$\n",
    "\n",
    "$$ \\rho(f, t, \\{a_i\\}) df =  \\frac{(2N)^\\theta}{f^{1-\\theta}(1-2f)^{1+\\theta}} \\exp\\left(\\frac{-2Nf}{\\tilde{n}(t)(1-2f)}\\right) \\frac{1}{\\Gamma(\\theta)\\tilde{n}(t)^\\theta} df   \\qquad \\qquad (2) $$\n",
    "\n"
   ],
   "id": "66b753138bc6db7b"
  },
  {
   "metadata": {},
   "cell_type": "code",
   "outputs": [],
   "execution_count": 6,
   "source": [
    "# analytic density functions - generic and non-approximate\n",
    "# with n as argument\n",
    "def rho_of_n(n, mu, s, age, N):\n",
    "\n",
    "    n_tilde = (np.exp(s*age)-1)/s\n",
    "    theta = mu*N\n",
    "    return 1/(n**(1-theta)) * (np.exp(-n/n_tilde)) / (gamma(theta)*(n_tilde**theta))\n",
    "\n",
    "# with f as argument (with option to adjust by n2 (background), default n2=0\n",
    "def rho_of_f(f, mu, s, age, N, n2=0):\n",
    "\n",
    "    n_tilde = (np.exp(s*age)-1)/s\n",
    "    theta = mu*N\n",
    "\n",
    "    # broken into parts for easy reading (see expression above)\n",
    "    coeff = (2*(N+n2))**theta / (1-2*f)**(theta+1)\n",
    "    main_freq_dependence = 1/(f**(1-theta))\n",
    "    in_exponential = (-2*(N+n2)*f)/(n_tilde*(1-2*f))\n",
    "    adjustment = 1/(gamma(theta)*n_tilde**theta)\n",
    "\n",
    "    return coeff*main_freq_dependence*np.exp(in_exponential)*adjustment"
   ],
   "id": "e10a74189a662714"
  },
  {
   "metadata": {},
   "cell_type": "markdown",
   "source": [
    "Adjusting for sequencing depth (eq 3, supplementary material)\n",
    "\n",
    "$$ \\rho_d(r|D, t, \\{a_i\\}) = \\int_0^{0.5} P(r|D, f) \\ \\rho(f, t) df \\qquad \\qquad (3) $$\n",
    "\n",
    "$$ \\textrm{Where} \\quad P(r|D, f) = \\binom{D}{r} f^r (1-f)^{D-r}$$\n"
   ],
   "id": "98125270f1576d1a"
  },
  {
   "metadata": {},
   "cell_type": "code",
   "outputs": [],
   "execution_count": 7,
   "source": [
    "def sampling_integrand(f, mu, s, age, N, reads, depth):\n",
    "\n",
    "    f_density = rho_of_f(f, mu, s, age, N)\n",
    "\n",
    "    return f_density * scipy.stats.binom.pmf(reads, depth, f)\n",
    "\n",
    "\n",
    "def rho_with_sampling(r, depth, mu, s, age, N):\n",
    "\n",
    "    f1_integration_limits = [0, 0.5]\n",
    "    I = it.quad(sampling_integrand, *f1_integration_limits, args=(mu, s, age, N, r, depth))\n",
    "\n",
    "    return I[0]"
   ],
   "id": "ca5c8bad072588f8"
  },
  {
   "metadata": {},
   "cell_type": "markdown",
   "source": "Calculate cumulative square distance using the log-cumulative density",
   "id": "7893fff44d99c2db"
  },
  {
   "metadata": {},
   "cell_type": "code",
   "outputs": [],
   "execution_count": 8,
   "source": [
    "def cum_square_logdistance(optimisation_parameters, variants, N, number_of_individuals):\n",
    "\n",
    "    mu, s = optimisation_parameters\n",
    "    D = int(variants.depth.mean())\n",
    "    x = np.arange(D+1)/D\n",
    "    n_variants = len(variants)\n",
    "\n",
    "    # calculate the cumulative curve\n",
    "    density = np.zeros(D+1)\n",
    "    for row in biobank_bins_quantiles.index:\n",
    "        age = biobank_bins_quantiles['Age.when.attended.assessment.centre_v0'][row]\n",
    "        age_count = biobank_bins_quantiles['age_count'][row]\n",
    "        for r in range(D + 1):\n",
    "            increment = rho_with_sampling(r, D, mu, s, age, N) * age_count\n",
    "            density[r] += increment / number_of_individuals\n",
    "\n",
    "    cumul_density = np.cumsum(density[::-1])[::-1]\n",
    "\n",
    "    variants_ordered = variants.sort_values('VAF', ascending=False)\n",
    "    y_variants = (np.arange(n_variants)+1)/number_of_individuals\n",
    "\n",
    "    density_list = []\n",
    "    for x in variants_ordered.VAF:\n",
    "        r_exact = x*D\n",
    "        r_decimal, r_lower = np.modf(r_exact)\n",
    "        r_lower = int(r_lower)\n",
    "        r_higher = int(np.ceil(r_exact))\n",
    "        density_higher = cumul_density[r_higher]\n",
    "        density_lower = cumul_density[r_lower]\n",
    "        density_list.append(density_higher**r_decimal * density_lower**(1-r_decimal))\n",
    "\n",
    "    log_actual = np.log(y_variants)\n",
    "    log_theoretical = np.log(np.array(density_list))\n",
    "\n",
    "    square_distance = sum((log_actual-log_theoretical)**2)\n",
    "    return square_distance"
   ],
   "id": "73f749625b11b97a"
  },
  {
   "metadata": {},
   "cell_type": "markdown",
   "source": "Calculate single fitness model density based on the age distribution of the samples",
   "id": "e8f98511be247a5d"
  },
  {
   "metadata": {},
   "cell_type": "code",
   "outputs": [],
   "execution_count": null,
   "source": [
    "def single_fitness_predictions_calc(mu, s, N, variant_quantiles):\n",
    "\n",
    "    D = int(variant_quantiles.depth.mean())\n",
    "    number_of_individuals = biobank_ages_bins.age_count.sum()\n",
    "\n",
    "    sampled_quantile_density = {}\n",
    "    cumul_quantile_density = {}\n",
    "    sampled_overall_density = np.zeros(D+1)\n",
    "\n",
    "    for qt in range(number_of_quantiles):\n",
    "        quantile_age_bins = biobank_bins_quantiles[biobank_bins_quantiles.quantile_labels == qt]\n",
    "        n_in_quantile = quantile_age_bins.age_count.sum()\n",
    "\n",
    "        # calculate sampled density\n",
    "        sampled_quantile_density[qt] = np.zeros(D + 1)\n",
    "        for row in quantile_age_bins.index:\n",
    "            age = quantile_age_bins['Age.when.attended.assessment.centre_v0'][row]\n",
    "            age_count = quantile_age_bins['age_count'][row]\n",
    "\n",
    "            for r in range(D + 1):\n",
    "                increment = rho_with_sampling(r, D, mu, s, age, N) * age_count\n",
    "                sampled_quantile_density[qt][r] += increment / n_in_quantile\n",
    "                sampled_overall_density[r] += increment / number_of_individuals\n",
    "\n",
    "                #clear_output() this stuff actually seriously slows it down\n",
    "                #print(age, age_count)\n",
    "                #print(r, '/', D)\n",
    "\n",
    "        cumul_quantile_density[qt] = np.cumsum(sampled_quantile_density[qt][::-1])[::-1]\n",
    "\n",
    "\n",
    "    cumul_overall_density = np.cumsum(sampled_overall_density[::-1])[::-1]\n",
    "\n",
    "    return cumul_overall_density, cumul_quantile_density\n"
   ],
   "id": "77e3d3375adfbff7"
  }
 ],
 "metadata": {
  "kernelspec": {
   "display_name": "Python 3",
   "language": "python",
   "name": "python3"
  },
  "language_info": {
   "codemirror_mode": {
    "name": "ipython",
    "version": 2
   },
   "file_extension": ".py",
   "mimetype": "text/x-python",
   "name": "python",
   "nbconvert_exporter": "python",
   "pygments_lexer": "ipython2",
   "version": "2.7.6"
  }
 },
 "nbformat": 4,
 "nbformat_minor": 5
}
