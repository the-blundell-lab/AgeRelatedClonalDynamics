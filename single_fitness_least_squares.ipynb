{
 "cells": [
  {
   "metadata": {},
   "cell_type": "markdown",
   "source": "# Single fitness effect model",
   "id": "2fa6da6068a64cfd"
  },
  {
   "metadata": {
    "ExecuteTime": {
     "end_time": "2025-08-13T12:46:46.129595Z",
     "start_time": "2025-08-13T12:46:43.498907Z"
    }
   },
   "cell_type": "code",
   "source": [
    "import evolutionary_functions as ev\n",
    "\n",
    "import numpy as np\n",
    "import matplotlib.pyplot as plt\n",
    "import scipy.special\n",
    "import scipy.integrate as it\n",
    "from scipy.stats import kde\n",
    "import pandas as pd\n",
    "from scipy.special import gamma\n",
    "from IPython.display import clear_output\n",
    "import scipy.optimize as opt\n",
    "import os\n",
    "import datetime\n",
    "\n",
    "# plotting defaults\n",
    "import matplotlib\n",
    "matplotlib.rc_file_defaults()\n",
    "matplotlib.rcParams['pdf.fonttype'] = 42\n",
    "matplotlib.rcParams['font.family'] = 'Lato'\n"
   ],
   "id": "916310f863df1414",
   "outputs": [],
   "execution_count": 1
  },
  {
   "metadata": {},
   "cell_type": "markdown",
   "source": "## Import anonymised data",
   "id": "d9e7cd2237a307ad"
  },
  {
   "metadata": {
    "ExecuteTime": {
     "end_time": "2025-08-13T12:46:46.140772Z",
     "start_time": "2025-08-13T12:46:46.131879Z"
    }
   },
   "cell_type": "code",
   "source": [
    "# number of quantiles for plotting: choose 3 or 4\n",
    "number_of_quantiles = 4\n",
    "\n",
    "# import age distribution and quantile labels\n",
    "biobank_bins_quantiles = pd.read_csv('inputs_participants/biobank_bins_quantiles.tsv', sep='\\t').rename(columns={f'quantile_labels_{number_of_quantiles}': 'quantile_labels'})[['Age.when.attended.assessment.centre_v0', 'age_count', 'quantile_labels']]\n",
    "number_of_individuals = biobank_bins_quantiles.age_count.sum()"
   ],
   "id": "b5de37c3a9f68d9b",
   "outputs": [],
   "execution_count": 2
  },
  {
   "metadata": {
    "ExecuteTime": {
     "end_time": "2025-08-13T12:46:46.185447Z",
     "start_time": "2025-08-13T12:46:46.142476Z"
    }
   },
   "cell_type": "code",
   "source": [
    "ukb_variants = pd.read_csv('inputs_variants/ukb_healthy_curated_top20_variants_trimmed.tsv', sep='\\t', low_memory=False)\n",
    "#ukb_variants = ukb_variants.drop(columns={'quantile_labels'})\n",
    "\n",
    "# attach age quantile data\n",
    "ukb_variants_quantiles = pd.merge(ukb_variants, biobank_bins_quantiles[['Age.when.attended.assessment.centre_v0', f'quantile_labels']], on='Age.when.attended.assessment.centre_v0', how='left')\n",
    "\n",
    "# create useful dictionary of variant dataframes\n",
    "ukb_variants_dict = {}\n",
    "for varid in ukb_variants_quantiles.varID.unique():\n",
    "    ukb_variants_dict[varid] = ukb_variants_quantiles[ukb_variants_quantiles['varID'] == varid].reset_index(drop=True)\n"
   ],
   "id": "fe5fcc6cf44a49",
   "outputs": [],
   "execution_count": 3
  },
  {
   "metadata": {
    "ExecuteTime": {
     "end_time": "2025-08-13T13:14:35.099631Z",
     "start_time": "2025-08-13T13:14:35.090851Z"
    }
   },
   "cell_type": "code",
   "source": "ukb_variants_quantiles[ukb_variants_quantiles.varID == 'DNMT3A Y735C'].VAF.min()",
   "id": "b6f5069ed48a87a9",
   "outputs": [
    {
     "data": {
      "text/plain": [
       "0.03125"
      ]
     },
     "execution_count": 10,
     "metadata": {},
     "output_type": "execute_result"
    }
   ],
   "execution_count": 10
  },
  {
   "metadata": {},
   "cell_type": "markdown",
   "source": "### Results: least-squares optimiser",
   "id": "7cf840210f8c008a"
  },
  {
   "metadata": {},
   "cell_type": "markdown",
   "source": "Import results of least-squares optimiser",
   "id": "8777065538a5f263"
  },
  {
   "metadata": {
    "ExecuteTime": {
     "end_time": "2025-08-13T12:46:46.193068Z",
     "start_time": "2025-08-13T12:46:46.187414Z"
    }
   },
   "cell_type": "code",
   "source": [
    "filename = 'results_files/lsq_optimisation_top20_trimmed.tsv'\n",
    "opt_results = pd.read_csv(filename, sep='\\t')"
   ],
   "id": "fde08a244619367b",
   "outputs": [],
   "execution_count": 4
  },
  {
   "metadata": {},
   "cell_type": "markdown",
   "source": "Calculate predicted density based on optimised results for each variant: takes 10-20 minutes",
   "id": "f36b6b34b292d8ee"
  },
  {
   "metadata": {},
   "cell_type": "code",
   "source": [
    "N = 100000\n",
    "naive_overall_dict = {}\n",
    "naive_quantiles_dict = {}\n",
    "for variant_name in ukb_variants_dict.keys():\n",
    "    if variant_name not in naive_overall_dict.keys():\n",
    "        clear_output()\n",
    "        print(variant_name)\n",
    "        variant_quantiles = ukb_variants_dict[variant_name]\n",
    "        opt_row = opt_results[opt_results.varID == variant_name]\n",
    "        mu, s = [opt_row['mu'].squeeze(), opt_row['s'].squeeze()]\n",
    "        naive_overall_dict[variant_name], naive_quantiles_dict[variant_name] = ev.single_fitness_predictions_calc(mu, s, N, variant_quantiles, biobank_bins_quantiles, number_of_quantiles)"
   ],
   "id": "62ed2ea9e390e734",
   "execution_count": 5,
   "outputs": [
    {
     "name": "stdout",
     "output_type": "stream",
     "text": [
      "DNMT3A R882H\n"
     ]
    },
    {
     "ename": "KeyboardInterrupt",
     "evalue": "",
     "output_type": "error",
     "traceback": [
      "\u001B[0;31m---------------------------------------------------------------------------\u001B[0m",
      "\u001B[0;31mKeyboardInterrupt\u001B[0m                         Traceback (most recent call last)",
      "Cell \u001B[0;32mIn[5], line 11\u001B[0m\n\u001B[1;32m      9\u001B[0m opt_row \u001B[38;5;241m=\u001B[39m opt_results[opt_results\u001B[38;5;241m.\u001B[39mvarID \u001B[38;5;241m==\u001B[39m variant_name]\n\u001B[1;32m     10\u001B[0m mu, s \u001B[38;5;241m=\u001B[39m [opt_row[\u001B[38;5;124m'\u001B[39m\u001B[38;5;124mmu\u001B[39m\u001B[38;5;124m'\u001B[39m]\u001B[38;5;241m.\u001B[39msqueeze(), opt_row[\u001B[38;5;124m'\u001B[39m\u001B[38;5;124ms\u001B[39m\u001B[38;5;124m'\u001B[39m]\u001B[38;5;241m.\u001B[39msqueeze()]\n\u001B[0;32m---> 11\u001B[0m naive_overall_dict[variant_name], naive_quantiles_dict[variant_name] \u001B[38;5;241m=\u001B[39m \u001B[43mev\u001B[49m\u001B[38;5;241;43m.\u001B[39;49m\u001B[43msingle_fitness_predictions_calc\u001B[49m\u001B[43m(\u001B[49m\u001B[43mmu\u001B[49m\u001B[43m,\u001B[49m\u001B[43m \u001B[49m\u001B[43ms\u001B[49m\u001B[43m,\u001B[49m\u001B[43m \u001B[49m\u001B[43mN\u001B[49m\u001B[43m,\u001B[49m\u001B[43m \u001B[49m\u001B[43mvariant_quantiles\u001B[49m\u001B[43m,\u001B[49m\u001B[43m \u001B[49m\u001B[43mbiobank_bins_quantiles\u001B[49m\u001B[43m,\u001B[49m\u001B[43m \u001B[49m\u001B[43mnumber_of_quantiles\u001B[49m\u001B[43m)\u001B[49m\n",
      "File \u001B[0;32m~/Documents/!Hamish MacGregor/Cambridge/PhD/TP53/publication_code/evolutionary_functions.py:115\u001B[0m, in \u001B[0;36msingle_fitness_predictions_calc\u001B[0;34m(mu, s, N, variant_quantiles, biobank_bins_quantiles, number_of_quantiles)\u001B[0m\n\u001B[1;32m    112\u001B[0m age_count \u001B[38;5;241m=\u001B[39m quantile_age_bins[\u001B[38;5;124m'\u001B[39m\u001B[38;5;124mage_count\u001B[39m\u001B[38;5;124m'\u001B[39m][row]\n\u001B[1;32m    114\u001B[0m \u001B[38;5;28;01mfor\u001B[39;00m r \u001B[38;5;129;01min\u001B[39;00m \u001B[38;5;28mrange\u001B[39m(D \u001B[38;5;241m+\u001B[39m \u001B[38;5;241m1\u001B[39m):\n\u001B[0;32m--> 115\u001B[0m     increment \u001B[38;5;241m=\u001B[39m \u001B[43mrho_with_sampling\u001B[49m\u001B[43m(\u001B[49m\u001B[43mr\u001B[49m\u001B[43m,\u001B[49m\u001B[43m \u001B[49m\u001B[43mD\u001B[49m\u001B[43m,\u001B[49m\u001B[43m \u001B[49m\u001B[43mmu\u001B[49m\u001B[43m,\u001B[49m\u001B[43m \u001B[49m\u001B[43ms\u001B[49m\u001B[43m,\u001B[49m\u001B[43m \u001B[49m\u001B[43mage\u001B[49m\u001B[43m,\u001B[49m\u001B[43m \u001B[49m\u001B[43mN\u001B[49m\u001B[43m)\u001B[49m \u001B[38;5;241m*\u001B[39m age_count\n\u001B[1;32m    116\u001B[0m     sampled_quantile_density[qt][r] \u001B[38;5;241m+\u001B[39m\u001B[38;5;241m=\u001B[39m increment \u001B[38;5;241m/\u001B[39m n_in_quantile\n\u001B[1;32m    117\u001B[0m     sampled_overall_density[r] \u001B[38;5;241m+\u001B[39m\u001B[38;5;241m=\u001B[39m increment \u001B[38;5;241m/\u001B[39m number_of_individuals\n",
      "File \u001B[0;32m~/Documents/!Hamish MacGregor/Cambridge/PhD/TP53/publication_code/evolutionary_functions.py:51\u001B[0m, in \u001B[0;36mrho_with_sampling\u001B[0;34m(r, depth, mu, s, age, N)\u001B[0m\n\u001B[1;32m     48\u001B[0m \u001B[38;5;28;01mdef\u001B[39;00m \u001B[38;5;21mrho_with_sampling\u001B[39m(r, depth, mu, s, age, N):\n\u001B[1;32m     50\u001B[0m     f1_integration_limits \u001B[38;5;241m=\u001B[39m [\u001B[38;5;241m0\u001B[39m, \u001B[38;5;241m0.5\u001B[39m]\n\u001B[0;32m---> 51\u001B[0m     I \u001B[38;5;241m=\u001B[39m \u001B[43mit\u001B[49m\u001B[38;5;241;43m.\u001B[39;49m\u001B[43mquad\u001B[49m\u001B[43m(\u001B[49m\u001B[43msampling_integrand\u001B[49m\u001B[43m,\u001B[49m\u001B[43m \u001B[49m\u001B[38;5;241;43m*\u001B[39;49m\u001B[43mf1_integration_limits\u001B[49m\u001B[43m,\u001B[49m\u001B[43m \u001B[49m\u001B[43margs\u001B[49m\u001B[38;5;241;43m=\u001B[39;49m\u001B[43m(\u001B[49m\u001B[43mmu\u001B[49m\u001B[43m,\u001B[49m\u001B[43m \u001B[49m\u001B[43ms\u001B[49m\u001B[43m,\u001B[49m\u001B[43m \u001B[49m\u001B[43mage\u001B[49m\u001B[43m,\u001B[49m\u001B[43m \u001B[49m\u001B[43mN\u001B[49m\u001B[43m,\u001B[49m\u001B[43m \u001B[49m\u001B[43mr\u001B[49m\u001B[43m,\u001B[49m\u001B[43m \u001B[49m\u001B[43mdepth\u001B[49m\u001B[43m)\u001B[49m\u001B[43m)\u001B[49m\n\u001B[1;32m     53\u001B[0m     \u001B[38;5;28;01mreturn\u001B[39;00m I[\u001B[38;5;241m0\u001B[39m]\n",
      "File \u001B[0;32m~/.conda/envs/ALSPAC/lib/python3.10/site-packages/scipy/integrate/_quadpack_py.py:465\u001B[0m, in \u001B[0;36mquad\u001B[0;34m(func, a, b, args, full_output, epsabs, epsrel, limit, points, weight, wvar, wopts, maxp1, limlst, complex_func)\u001B[0m\n\u001B[1;32m    462\u001B[0m     \u001B[38;5;28;01mreturn\u001B[39;00m retval\n\u001B[1;32m    464\u001B[0m \u001B[38;5;28;01mif\u001B[39;00m weight \u001B[38;5;129;01mis\u001B[39;00m \u001B[38;5;28;01mNone\u001B[39;00m:\n\u001B[0;32m--> 465\u001B[0m     retval \u001B[38;5;241m=\u001B[39m \u001B[43m_quad\u001B[49m\u001B[43m(\u001B[49m\u001B[43mfunc\u001B[49m\u001B[43m,\u001B[49m\u001B[43m \u001B[49m\u001B[43ma\u001B[49m\u001B[43m,\u001B[49m\u001B[43m \u001B[49m\u001B[43mb\u001B[49m\u001B[43m,\u001B[49m\u001B[43m \u001B[49m\u001B[43margs\u001B[49m\u001B[43m,\u001B[49m\u001B[43m \u001B[49m\u001B[43mfull_output\u001B[49m\u001B[43m,\u001B[49m\u001B[43m \u001B[49m\u001B[43mepsabs\u001B[49m\u001B[43m,\u001B[49m\u001B[43m \u001B[49m\u001B[43mepsrel\u001B[49m\u001B[43m,\u001B[49m\u001B[43m \u001B[49m\u001B[43mlimit\u001B[49m\u001B[43m,\u001B[49m\n\u001B[1;32m    466\u001B[0m \u001B[43m                   \u001B[49m\u001B[43mpoints\u001B[49m\u001B[43m)\u001B[49m\n\u001B[1;32m    467\u001B[0m \u001B[38;5;28;01melse\u001B[39;00m:\n\u001B[1;32m    468\u001B[0m     \u001B[38;5;28;01mif\u001B[39;00m points \u001B[38;5;129;01mis\u001B[39;00m \u001B[38;5;129;01mnot\u001B[39;00m \u001B[38;5;28;01mNone\u001B[39;00m:\n",
      "File \u001B[0;32m~/.conda/envs/ALSPAC/lib/python3.10/site-packages/scipy/integrate/_quadpack_py.py:577\u001B[0m, in \u001B[0;36m_quad\u001B[0;34m(func, a, b, args, full_output, epsabs, epsrel, limit, points)\u001B[0m\n\u001B[1;32m    575\u001B[0m \u001B[38;5;28;01mif\u001B[39;00m points \u001B[38;5;129;01mis\u001B[39;00m \u001B[38;5;28;01mNone\u001B[39;00m:\n\u001B[1;32m    576\u001B[0m     \u001B[38;5;28;01mif\u001B[39;00m infbounds \u001B[38;5;241m==\u001B[39m \u001B[38;5;241m0\u001B[39m:\n\u001B[0;32m--> 577\u001B[0m         \u001B[38;5;28;01mreturn\u001B[39;00m \u001B[43m_quadpack\u001B[49m\u001B[38;5;241;43m.\u001B[39;49m\u001B[43m_qagse\u001B[49m\u001B[43m(\u001B[49m\u001B[43mfunc\u001B[49m\u001B[43m,\u001B[49m\u001B[43ma\u001B[49m\u001B[43m,\u001B[49m\u001B[43mb\u001B[49m\u001B[43m,\u001B[49m\u001B[43margs\u001B[49m\u001B[43m,\u001B[49m\u001B[43mfull_output\u001B[49m\u001B[43m,\u001B[49m\u001B[43mepsabs\u001B[49m\u001B[43m,\u001B[49m\u001B[43mepsrel\u001B[49m\u001B[43m,\u001B[49m\u001B[43mlimit\u001B[49m\u001B[43m)\u001B[49m\n\u001B[1;32m    578\u001B[0m     \u001B[38;5;28;01melse\u001B[39;00m:\n\u001B[1;32m    579\u001B[0m         \u001B[38;5;28;01mreturn\u001B[39;00m _quadpack\u001B[38;5;241m.\u001B[39m_qagie(func,bound,infbounds,args,full_output,epsabs,epsrel,limit)\n",
      "File \u001B[0;32m~/Documents/!Hamish MacGregor/Cambridge/PhD/TP53/publication_code/evolutionary_functions.py:44\u001B[0m, in \u001B[0;36msampling_integrand\u001B[0;34m(f, mu, s, age, N, reads, depth)\u001B[0m\n\u001B[1;32m     40\u001B[0m \u001B[38;5;28;01mdef\u001B[39;00m \u001B[38;5;21msampling_integrand\u001B[39m(f, mu, s, age, N, reads, depth):\n\u001B[1;32m     42\u001B[0m     f_density \u001B[38;5;241m=\u001B[39m rho_of_f(f, mu, s, age, N)\n\u001B[0;32m---> 44\u001B[0m     \u001B[38;5;28;01mreturn\u001B[39;00m f_density \u001B[38;5;241m*\u001B[39m \u001B[43mscipy\u001B[49m\u001B[38;5;241;43m.\u001B[39;49m\u001B[43mstats\u001B[49m\u001B[38;5;241;43m.\u001B[39;49m\u001B[43mbinom\u001B[49m\u001B[38;5;241;43m.\u001B[39;49m\u001B[43mpmf\u001B[49m\u001B[43m(\u001B[49m\u001B[43mreads\u001B[49m\u001B[43m,\u001B[49m\u001B[43m \u001B[49m\u001B[43mdepth\u001B[49m\u001B[43m,\u001B[49m\u001B[43m \u001B[49m\u001B[43mf\u001B[49m\u001B[43m)\u001B[49m\n",
      "File \u001B[0;32m~/.conda/envs/ALSPAC/lib/python3.10/site-packages/scipy/stats/_distn_infrastructure.py:3378\u001B[0m, in \u001B[0;36mrv_discrete.pmf\u001B[0;34m(self, k, *args, **kwds)\u001B[0m\n\u001B[1;32m   3376\u001B[0m \u001B[38;5;28;01mif\u001B[39;00m np\u001B[38;5;241m.\u001B[39many(cond):\n\u001B[1;32m   3377\u001B[0m     goodargs \u001B[38;5;241m=\u001B[39m argsreduce(cond, \u001B[38;5;241m*\u001B[39m((k,)\u001B[38;5;241m+\u001B[39margs))\n\u001B[0;32m-> 3378\u001B[0m     place(output, cond, \u001B[43mnp\u001B[49m\u001B[38;5;241;43m.\u001B[39;49m\u001B[43mclip\u001B[49m\u001B[43m(\u001B[49m\u001B[38;5;28;43mself\u001B[39;49m\u001B[38;5;241;43m.\u001B[39;49m\u001B[43m_pmf\u001B[49m\u001B[43m(\u001B[49m\u001B[38;5;241;43m*\u001B[39;49m\u001B[43mgoodargs\u001B[49m\u001B[43m)\u001B[49m\u001B[43m,\u001B[49m\u001B[43m \u001B[49m\u001B[38;5;241;43m0\u001B[39;49m\u001B[43m,\u001B[49m\u001B[43m \u001B[49m\u001B[38;5;241;43m1\u001B[39;49m\u001B[43m)\u001B[49m)\n\u001B[1;32m   3379\u001B[0m \u001B[38;5;28;01mif\u001B[39;00m output\u001B[38;5;241m.\u001B[39mndim \u001B[38;5;241m==\u001B[39m \u001B[38;5;241m0\u001B[39m:\n\u001B[1;32m   3380\u001B[0m     \u001B[38;5;28;01mreturn\u001B[39;00m output[()]\n",
      "File \u001B[0;32m~/.conda/envs/ALSPAC/lib/python3.10/site-packages/numpy/core/fromnumeric.py:2100\u001B[0m, in \u001B[0;36mclip\u001B[0;34m(a, a_min, a_max, out, **kwargs)\u001B[0m\n\u001B[1;32m   2096\u001B[0m \u001B[38;5;28;01mdef\u001B[39;00m \u001B[38;5;21m_clip_dispatcher\u001B[39m(a, a_min, a_max, out\u001B[38;5;241m=\u001B[39m\u001B[38;5;28;01mNone\u001B[39;00m, \u001B[38;5;241m*\u001B[39m\u001B[38;5;241m*\u001B[39mkwargs):\n\u001B[1;32m   2097\u001B[0m     \u001B[38;5;28;01mreturn\u001B[39;00m (a, a_min, a_max)\n\u001B[0;32m-> 2100\u001B[0m \u001B[38;5;129m@array_function_dispatch\u001B[39m(_clip_dispatcher)\n\u001B[1;32m   2101\u001B[0m \u001B[38;5;28;01mdef\u001B[39;00m \u001B[38;5;21mclip\u001B[39m(a, a_min, a_max, out\u001B[38;5;241m=\u001B[39m\u001B[38;5;28;01mNone\u001B[39;00m, \u001B[38;5;241m*\u001B[39m\u001B[38;5;241m*\u001B[39mkwargs):\n\u001B[1;32m   2102\u001B[0m \u001B[38;5;250m    \u001B[39m\u001B[38;5;124;03m\"\"\"\u001B[39;00m\n\u001B[1;32m   2103\u001B[0m \u001B[38;5;124;03m    Clip (limit) the values in an array.\u001B[39;00m\n\u001B[1;32m   2104\u001B[0m \n\u001B[0;32m   (...)\u001B[0m\n\u001B[1;32m   2167\u001B[0m \n\u001B[1;32m   2168\u001B[0m \u001B[38;5;124;03m    \"\"\"\u001B[39;00m\n\u001B[1;32m   2169\u001B[0m     \u001B[38;5;28;01mreturn\u001B[39;00m _wrapfunc(a, \u001B[38;5;124m'\u001B[39m\u001B[38;5;124mclip\u001B[39m\u001B[38;5;124m'\u001B[39m, a_min, a_max, out\u001B[38;5;241m=\u001B[39mout, \u001B[38;5;241m*\u001B[39m\u001B[38;5;241m*\u001B[39mkwargs)\n",
      "\u001B[0;31mKeyboardInterrupt\u001B[0m: "
     ]
    }
   ]
  },
  {
   "metadata": {},
   "cell_type": "code",
   "source": [
    "fig, ax = plt.subplots(4, 5, figsize=[20, 15])\n",
    "ax = ax.ravel()\n",
    "\n",
    "for i, varid in enumerate(ukb_variants_dict.keys()):\n",
    "    variant_quantiles = ukb_variants_dict[varid]\n",
    "    opt_row = opt_results[opt_results.varID == varid]\n",
    "    mu, s = [opt_row['mu'].squeeze(), opt_row['s'].squeeze()]\n",
    "    s_pc = s*100\n",
    "    ev.overall_density_plot(ax[i], variant_quantiles, mu, naive_overall_dict[varid], number_of_individuals,\n",
    "                         colour='k')\n",
    "    ax[i].text(0.4, 1e5, fr'$\\mu$ = {mu:.2g}'+'\\n'+f's = {s_pc:.3g}%')\n",
    "    ax[i].set_title(varid, fontsize=15, loc='left')\n",
    "    ax[i].set_xlabel('VAF')\n",
    "    ax[i].set_ylabel('reverse cumulative density')\n",
    "    ax[i].set_yscale('log')\n",
    "    ax[i].set_ylim(1e2, 1e6)\n",
    "    ax[i].set_xlim(0, 0.6)\n",
    "plt.tight_layout()\n",
    "plt.show()\n"
   ],
   "id": "c7ed85946292aff8",
   "outputs": [],
   "execution_count": null
  },
  {
   "metadata": {},
   "cell_type": "code",
   "source": [
    "fig, ax = plt.subplots(4, 5, figsize=[20, 15])\n",
    "ax = ax.ravel()\n",
    "quantile_colour_list = ['tab:blue', '#e39b00', 'tab:green', 'C3']\n",
    "for i, varid in enumerate(ukb_variants_dict.keys()):\n",
    "    variant_quantiles = ukb_variants_dict[varid]\n",
    "    opt_row = opt_results[opt_results.varID == varid]\n",
    "    mu, s = [opt_row['mu'].squeeze(), opt_row['s'].squeeze()]\n",
    "    ev.quantile_density_plot(ax[i], variant_quantiles, mu, naive_quantiles_dict[varid], number_of_quantiles, quantile_colour_list, biobank_bins_quantiles)\n",
    "    ax[i].set_title(varid, fontsize=15, loc='left')\n",
    "    ax[i].set_xlabel('VAF')\n",
    "    ax[i].set_ylabel('reverse cumulative density')\n",
    "    ax[i].set_yscale('log')\n",
    "    ax[i].set_ylim(1e2, 1e6)\n",
    "    ax[i].set_xlim(0, 0.6)\n",
    "plt.tight_layout()\n",
    "plt.show()\n"
   ],
   "id": "fe94e6334c5c7778",
   "outputs": [],
   "execution_count": null
  },
  {
   "metadata": {},
   "cell_type": "markdown",
   "source": "#",
   "id": "cc44677a1ab1827e"
  }
 ],
 "metadata": {
  "kernelspec": {
   "display_name": "Python 3",
   "language": "python",
   "name": "python3"
  },
  "language_info": {
   "codemirror_mode": {
    "name": "ipython",
    "version": 2
   },
   "file_extension": ".py",
   "mimetype": "text/x-python",
   "name": "python",
   "nbconvert_exporter": "python",
   "pygments_lexer": "ipython2",
   "version": "2.7.6"
  }
 },
 "nbformat": 4,
 "nbformat_minor": 5
}
